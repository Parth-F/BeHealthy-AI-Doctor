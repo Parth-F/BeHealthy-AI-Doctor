{
 "cells": [
  {
   "cell_type": "code",
   "execution_count": null,
   "metadata": {},
   "outputs": [
    {
     "name": "stderr",
     "output_type": "stream",
     "text": [
      "c:\\Users\\parth\\miniconda3\\Lib\\site-packages\\tqdm\\auto.py:21: TqdmWarning: IProgress not found. Please update jupyter and ipywidgets. See https://ipywidgets.readthedocs.io/en/stable/user_install.html\n",
      "  from .autonotebook import tqdm as notebook_tqdm\n"
     ]
    }
   ],
   "source": [
    "# Importing Libraries\n",
    "import os\n",
    "from dotenv import load_dotenv\n",
    "import pandas as pd\n",
    "import datasets"
   ]
  },
  {
   "cell_type": "code",
   "execution_count": null,
   "metadata": {},
   "outputs": [],
   "source": [
    "# Load Dataset from Hugging Face\n",
    "df = pd.read_parquet(\"hf://datasets/lavita/ChatDoctor-HealthCareMagic-100k/data/train-00000-of-00001-5e7cb295b9cff0bf.parquet\")"
   ]
  },
  {
   "cell_type": "code",
   "execution_count": null,
   "metadata": {},
   "outputs": [
    {
     "data": {
      "application/vnd.microsoft.datawrangler.viewer.v0+json": {
       "columns": [
        {
         "name": "index",
         "rawType": "int64",
         "type": "integer"
        },
        {
         "name": "instruction",
         "rawType": "object",
         "type": "string"
        },
        {
         "name": "input",
         "rawType": "object",
         "type": "string"
        },
        {
         "name": "output",
         "rawType": "object",
         "type": "string"
        }
       ],
       "conversionMethod": "pd.DataFrame",
       "ref": "82b218cc-e52f-41e5-8ea0-ee9dbf662b05",
       "rows": [
        [
         "0",
         "If you are a doctor, please answer the medical questions based on the patient's description.",
         "I woke up this morning feeling the whole room is spinning when i was sitting down. I went to the bathroom walking unsteadily, as i tried to focus i feel nauseous. I try to vomit but it wont come out.. After taking panadol and sleep for few hours, i still feel the same.. By the way, if i lay down or sit down, my head do not spin, only when i want to move around then i feel the whole world is spinning.. And it is normal stomach discomfort at the same time? Earlier after i relieved myself, the spinning lessen so i am not sure whether its connected or coincidences.. Thank you doc!",
         "Hi, Thank you for posting your query. The most likely cause for your symptoms is benign paroxysmal positional vertigo (BPPV), a type of peripheral vertigo. In this condition, the most common symptom is dizziness or giddiness, which is made worse with movements. Accompanying nausea and vomiting are common. The condition is due to problem in the ear, and improves in a few days on own. Betahistine tablets would help relieve your symptoms. Doing vestibular rehabilitation or adaptation exercises would prevent the recurrence of these symptoms. An ENT evaluation would also help. I hope it helps. Best wishes, Chat Doctor."
        ],
        [
         "1",
         "If you are a doctor, please answer the medical questions based on the patient's description.",
         "My baby has been pooing 5-6 times a day for a week. In the last few days it has increased to 7 and they are very watery with green stringy bits in them. He does not seem unwell i.e no temperature and still eating. He now has a very bad nappy rash from the pooing ...help!",
         "Hi... Thank you for consulting in Chat Doctor. It seems your kid is having viral diarrhea. Once it starts it will take 5-7 days to completely get better. Unless the kids having low urine output or very dull or excessively sleepy or blood in motion or green bilious vomiting...you need not worry. There is no need to use antibiotics unless there is blood in the motion. Antibiotics might worsen if unnecessarily used causing antibiotic associated diarrhea. I suggest you use zinc supplements (Z&D Chat Doctor."
        ],
        [
         "2",
         "If you are a doctor, please answer the medical questions based on the patient's description.",
         "Hello, My husband is taking Oxycodone due to a broken leg/surgery. He has been taking this pain medication for one month. We are trying to conceive our second baby. Will this medication afect the fetus? Or the health of the baby? Or can it bring birth defects? Thank you.",
         "Hello, and I hope I can help you today.First, there is no medication that can be taken by the father that has any way to get into your system or a baby if you conceive.  Medications can only affect a fetus if you take it while pregnant. The only issue is that certain medications may decrease a men sperm count and affect fertility, however pain medications like Oxycodone do not have this effect. So there is no reason for you to worry about conceiving while taking this medication.  The best way you can prepare for a healthy pregnancy is to follow a well-balanced diet, limit alcohol consumption and avoid cigarette smoke, and take a daily prenatal vitamin or folic acid, as folic acid supplements in early pregnancy helps to prevent certain types of birth defects. I hope this answers your question and best wishes for your upcoming pregnancy,"
        ],
        [
         "3",
         "If you are a doctor, please answer the medical questions based on the patient's description.",
         "lump under left nipple and stomach pain (male) Hi,I have recently noticed a few weeks ago a lump under my nipple, it hurts to touch and is about the size of a quarter. Also I have bern experiencing stomach pains that prevent me from eating. I immediatly feel full and have extreme pain. Please help",
         "HI. You have two different problems. The lump under the nipple should be removed, biopsied. This will help you to get rid of the disease, and you get a diagnosis. Second problem looks a bit serious one"
        ],
        [
         "4",
         "If you are a doctor, please answer the medical questions based on the patient's description.",
         "I have a 5 month old baby who is very congested with a terrible cough. Its rattly/raspy and croupy sounding cough. She started choking on her coughs and the mucous that has come up. She also has a fever and runny nose. Should i take her to urgent care?",
         "Thank you for using Chat Doctor. I would suggest that you see your doctor. Your baby maybe having bronchiolitis which is a lung infection common to your kids age. It is commonly caused by a virus. Albuterol via nebulization should be utilized in order to alleviate the wheezing and also help with the congestion. A decongestant can also be used for the colds. Also, it would also advise doing a chest X-ray in order to rule out other diseases (ex. pneumonia)sincerely, Mark RosarioGeneral pediatrics/Pediatric Pulmonology"
        ],
        [
         "5",
         "If you are a doctor, please answer the medical questions based on the patient's description.",
         "I am F 38 in good shape work out (do triathlons) regular but have had back pain from different reasons throughout my life now I every so often wake up with severe lower back, hip pain for no reason. today the pain is almost taking my breathe away when i move. It is a dull pain when i am just lying down but the moment I make any sort of movement I have sharp and sometimes shooting pain down my legs.",
         "Hi, From history it seems that you might be having degenerative changes in your lower back spines giving pinched nerve pressure. There might be having osteomalacia or osteoporosis as well. Go for x-ray lumbosacral region for osteoarthritis. Physiotherapy like back extension exercises will be much helpful. Take B1, B6, B!2 shots or medicine. Take calcium, vitamin A and D supplements. Ok and take care."
        ],
        [
         "6",
         "If you are a doctor, please answer the medical questions based on the patient's description.",
         "sir, MY uncle has ILD-Interstitial Lung disease.from my research over google i found that the cause is important to be known. the cause wat i feel is due to breakage of acid bottle in bathroom which caused lot of smoke and that time he wasnot able to be normal for 15-20 minutes. then he was normal .may be that would have been the reason for this ILD. Please suggest wat we should do",
         "Thanks for your question on Chat Doctor. I can understand your concern. OLD (interstitial lung disease) can not be caused by single exposure of any chemical. Chronic exposure (for years) of chemicals can cause OLD. It is not possible to find out cause for each and every OLD patient. Some patients can develop OLD just because of aging (old age). So your uncle is not having OLD due to breakage of acid bottle. He might be having age related OLD. Better to start Perfinodone and N acetyl cysteine (NAC) for OLD rather than searching for cause. Hope I have solved your query. I will be happy to help you further. Wishing good health to your uncle. Thanks."
        ],
        [
         "7",
         "If you are a doctor, please answer the medical questions based on the patient's description.",
         "my husband was working on a project in the house and all of a sudden a bump about the size of a half dollar appeard on his left leg inside below the knee. He is 69 years old and had triple by pass surgery 7 years ago. It stung when it first happened. Doesn t hurt now. He is seated with his leg ellevated. Is this an emergency?",
         "Hello. It could be a blood collection due to minor injury or a vein rupture which is also common at this age. It is not an emergency, but you should apply compression bandage and warm compresses if six hours have past. Furthermore, it should get relieved over the next few days but if it continues to increase or persist then you should see a Doctor who can examine the patient. Take care.  Chat Doctor."
        ],
        [
         "8",
         "If you are a doctor, please answer the medical questions based on the patient's description.",
         "hi my nine year old son had a cough and flu symptons three months ago and the chesty sounding cough and green phlegm still remains. it did seem to get better but never totally went and has now picked up again...he has only ever had antibiotics once in his live which suggests he his generally fitand well and active...never short of breath or weezy...so why would this be....",
         "Hi, If the symptoms persist that long this suggests the presence of an allergic element. To treat that kind of allergy you can give him an over the counter antihistamines once daily before going to bed. A cough suppressant as dextromethorphan and an expectorant as Murine will help reduce the cough. Make sure he Chat Doctor.  If the green phlegm persists he might require an antibiotic. Hope I have answered your query. Let me know if I can assist you further."
        ],
        [
         "9",
         "If you are a doctor, please answer the medical questions based on the patient's description.",
         "gyno problemsfor the past few months, I have been having issues with my vagina. there always seems to be something wrong with me. its either an infection or a yeast infection from the medication used to treat the previous infection or a herpes outbreak as a result of a yeast infection. most recently, I had a uti. I was treated for that and everything seemed fine, until after I finished the medication. it still hurt when I had sex and still is uncomfortable to pee. I dont know whats going on and this has been going on for months.",
         "Dear Friend. Welcome to Chat Doctor. I am Chat Doctor. I understand your concern. Recurring yeast / final infection occur due to"
        ],
        [
         "10",
         "If you are a doctor, please answer the medical questions based on the patient's description.",
         "I have found that I have an allergy to leotensin. They have taken me off of everything....I found in the information that one side effect if the red skin lensions with a purple center. I was looking to see if there was anything I could do to help the spots go away. I am a dental hygienist and I will be working the next two days. Is there anything that would cover them, so the patients would not be aware???",
         "Cellophane You for contacting Chat Doctor. Allergic reaction takes some time to settle. In the meanwhile you can cover it over the body by wearing appropriate long clothes which can cover most of the body to hide it. If itching occurs then you can take cetirizine once daily to prevent itching. Hope this answers your question. If you have additional questions or follow-up questions then please do not hesitate in writing to us. Wishing you good health."
        ],
        [
         "11",
         "If you are a doctor, please answer the medical questions based on the patient's description.",
         "Hi my name is Wendy I ve been having an issue for the last couple of months or so I been having severe pain in my lower back around the front into the groin area and its radiating down my thigh and so on I am currently a cancer patient nobody seems to be able to tell me what it could be the pain is so bad that it brings tears to my eyes would you possibly know what it could be or might be",
         "HelloThanks for query. You have not mentioned in your query details regarding cancer you are suffering from. The pain in back radiating down to thigh can be mostly due to metastasis in the spines or in to lymph nodes, You need to consult your treating oncologist and get evaluated by doing C. T scan of abdomen and pelvis and Bone scan. Further treatment will depend upon result of these tests and final diagnosis. Chat Doctor."
        ],
        [
         "12",
         "If you are a doctor, please answer the medical questions based on the patient's description.",
         "hye, My aunt is having shortness of breath and she is on vent now. Her breast showed some kind of infection that apparently turned out to have black blisters. I could she those spreading. When we went for lungs x-ray doctor said she has accumulation of water in her lungs",
         "Thanks for your question on Chat Doctor. I can understand your aunts situation and problem. By your history and description, possibility of bacterial infection especially staphylococcus is more in her case. She is having pleural effusion and infective skin lesions on breast. Staphylococcus can cause pleural effusion and blister formation on skin. So chances of staphylococcal infection is more in her case. Better to send pleural fluid culture and sensitivity for the diagnosis of staphylococcal infection. This will also tell about effective antibiotic therapy. With appropriate antibiotics and Care, this infection can be treated. Hope I have solved your query. Wishing good health to your aunt. Thanks."
        ],
        [
         "13",
         "If you are a doctor, please answer the medical questions based on the patient's description.",
         "i am 28 yrs old, i got married before 6 year, i was infected by pulmonary tuberculosis before 6 years, i took treatment for 6 months after that i statred gainig weigt, my periods was irredulat, i increased nearlt 20 kgs after that, now my weight is 75 kgs, i trying to conceive, i took tsh, other blood test too, but everything is normal, do i have the chances to conceive",
         "Hi, thank you for asking Chat Doctor I understand your concerns No need to worry so much. The chances of conceiving still exist with irregular periods. I don't know if you have been trying to conceive but to no avail. If that is the case, then I think both of you have to be assessed. Infertility within a couple can be linked to a man, woman or both. If everything is fine with you except irregular periods, then I would advise that both of you should see a doctor for assessment and counseling. I hope that helps wish you well"
        ],
        [
         "14",
         "If you are a doctor, please answer the medical questions based on the patient's description.",
         "I sprained my foot on Friday. I stepped on what I thought was lawn. Instead I was a bit on the lawn, but the outside of my foot snapped down into a trough. My foot has been swollen since Friday. Today is Thursday. Kept ice on it for 24 hours. Bruising started after that, Now bruising is spreading. It is really dark on my toes. Pain is on outside of my foot, not on my ankle.",
         "Hello, You have sustained twisting injury to foot which may lead to sprain or minor fracture in foot bones. Diagnosis needs to be confirmed by doing x-ray of the involved foot anteroposterior and oblique views to rule out bony abnormalities. If x-ray is normal RICE therapy is needed which means Rest Ice application Compression bandage and Limb Elevation. Tab Diclofenac sodium twice a day for pain relief and tab Choral forte twice a day for swelling reduction is required. If x-ray shows fracture Below knee slab may be given. If X-ray is abnormal please consult orthopedic surgeon nearby your area.  Hope I have answered your query. Let me know if I can assist you further."
        ],
        [
         "15",
         "If you are a doctor, please answer the medical questions based on the patient's description.",
         "hi, i have been recently diagnosed with H pylori.. i have been give the triple treatment of calithramycin, amoxxicilin and omeprazole.. is dis something very serious and does this have some long term implications etc.can u plz give some detailed information about Hpylori. thnx",
         "HiT hanks for choosing Chat Doctor for your query. I appreciate your concern towards H pylori infection which normally causes break in the lining of the stomach (peptic ulcer). H pylori is an exceptional bacterium which can survive in the acidic environment of the stomach producing tissue damage result in ulcer. Since this is a bacterial infection, hence antibiotics are used for 2 weeks to kill H pylori. Along with antibiotics Omeprazole is given for a period of 4-6 weeks to suppress the acid production and to increase the healing process of the ulcer. It is not a serious condition, usually triple treatment is sufficient to cure this condition. You must avoid taking Alcohol, hot and spicy foods, NSAID painkiller, smoking, caffeine, carbonated sweetened soft Chat Doctor. I hope all your doubts have been clarified in a simple language,Feedback in this regard is highly appreciated. Take care"
        ],
        [
         "16",
         "If you are a doctor, please answer the medical questions based on the patient's description.",
         "I had a alt reading about 2+ months ago of 43 then retested today and got a 60 alt reading my other readings came back normal should I be concerned?Im 40 years 5ft 3 and weigh 192albs have a history of chronic vertigo and insomnia, and chronic sinus problems. I take valium 5 mg 4 times a day, fluticansone 2 puffs each nose once a day, qvair two puffs twice a day to prevent weasing, claritin for allergies, and I do sinus rinses as needed. I am female.My doctor says none of the medicine has liver side effects, and I dont drink alcohol but a sip on the rare occasion. He thinks it could be do my weight and Im working on this with gradual exercise when Im able too. Should I be worried with this test result? I had one other result that was high my triglcyerides read 198 ? WWW.WWWW.WW",
         "Hello and thank you for asking Chat Doctor. I have read your report, and I understand your concerns. First I would say to not worry. Normal Alt levels are 7 to 56 unit (depending on from the kits that laboratories use)In one of your tests, your Alt was 60. This level is almost normal and it doesn't always mean a serious condition of your liver. Here are some reasons why a healthy person might have changes in the levels of liver enzymes"
        ],
        [
         "17",
         "If you are a doctor, please answer the medical questions based on the patient's description.",
         "i had surgery done 5 months ago for scar tissue and adhesion removal. my gynecologist just found a cyst on my right ovary. im still having problems, when my husband and i have sex i get severe cervical pain and afterward i get abdominal cramps severe enough i get light headed, also i get abdominal pain and rectal pain before and during a bowel movement, i also get abdominal pain during urination. im 26 years old. what could it be?",
         "Hi. Thanks for your query and an elucidated history. Understood the history well. You have an obvious reason for pain - the adhesions and scar must have reformed. But the history of Dyspareunia, meaning painful sex indicated the is some active inflammatory process still going on in the pelvis called PID-Pelvic Inflammatory Disease. Cystitis and Procto-colitis are the additional problems causing the pain in abdomen and rectum before and during bowel movements as also during urination. Ovarian cyst can cause problem only if it enlarges fast or gets twisted. I would advise you the following"
        ],
        [
         "18",
         "If you are a doctor, please answer the medical questions based on the patient's description.",
         "Hi, I had a subarachnoid bleed and coiling of brain aneurysm last year. I am having some major bilateral temple pain along with numbness that comes and goes in my left arm/hand/fingers. I have had headaches since the aneurysm, but this is different. Also, my moods have been horrible for the past few weeks.",
         "Aneurysm in brain causes headache due to compression of pain sensitive structure in brain. But pain is usually unilateral not bilateral. This pain will not radiate in both upper limb. Bilateral upper limb pain may be due to cervical spondylosis or other causes. You have anxiety of aneurysm, so due to anxiety your mood is horrible because aneurysm does not cause horrible mood change. So your headache may be chronic tension type headache. You may relieve by antianxiety Chat Doctor."
        ],
        [
         "19",
         "If you are a doctor, please answer the medical questions based on the patient's description.",
         "Almost everytime I eat, it burns when I swallow. Not in my throat but in my chest. It burns all the way down. It helps a lil if I drink water after I swallow. I wake up a lot in the middle of the night with heartburn so I chew some tums and it helps for the most part. Why is it so painful when I eat?",
         "Thanks for your question on Chat Doctor. I can understand your concern. In my opinion, you are mostly having HERD (gastroesophageal reflux disease). It is due to laxity of gastroesophageal sphincter. Because of this the acid of the stomach tends to come up in the esophagus and cause burning in chest. So follow these steps for better symptomatic relief. 1. Avoid stress and tension. 2. Avoid hot and spicy food. Avoid junk food. Avoid large meals, instead take frequent small meals. 3. Take proton pump inhibitors and prokinetic Chat Doctor.  4. Keep 2 - 3 pillows under head in the bed to prevent reflux. 5. Quit smoking and alcohol if you have these habits. Lose weight if you are obese. Don't worry, you will be alright with all these. Hope I have solved your query. I will be happy to help you further. Wish you good health. Thanks."
        ]
       ],
       "shape": {
        "columns": 3,
        "rows": 20
       }
      },
      "text/html": [
       "<div>\n",
       "<style scoped>\n",
       "    .dataframe tbody tr th:only-of-type {\n",
       "        vertical-align: middle;\n",
       "    }\n",
       "\n",
       "    .dataframe tbody tr th {\n",
       "        vertical-align: top;\n",
       "    }\n",
       "\n",
       "    .dataframe thead th {\n",
       "        text-align: right;\n",
       "    }\n",
       "</style>\n",
       "<table border=\"1\" class=\"dataframe\">\n",
       "  <thead>\n",
       "    <tr style=\"text-align: right;\">\n",
       "      <th></th>\n",
       "      <th>instruction</th>\n",
       "      <th>input</th>\n",
       "      <th>output</th>\n",
       "    </tr>\n",
       "  </thead>\n",
       "  <tbody>\n",
       "    <tr>\n",
       "      <th>0</th>\n",
       "      <td>If you are a doctor, please answer the medical...</td>\n",
       "      <td>I woke up this morning feeling the whole room ...</td>\n",
       "      <td>Hi, Thank you for posting your query. The most...</td>\n",
       "    </tr>\n",
       "    <tr>\n",
       "      <th>1</th>\n",
       "      <td>If you are a doctor, please answer the medical...</td>\n",
       "      <td>My baby has been pooing 5-6 times a day for a ...</td>\n",
       "      <td>Hi... Thank you for consulting in Chat Doctor....</td>\n",
       "    </tr>\n",
       "    <tr>\n",
       "      <th>2</th>\n",
       "      <td>If you are a doctor, please answer the medical...</td>\n",
       "      <td>Hello, My husband is taking Oxycodone due to a...</td>\n",
       "      <td>Hello, and I hope I can help you today.First, ...</td>\n",
       "    </tr>\n",
       "    <tr>\n",
       "      <th>3</th>\n",
       "      <td>If you are a doctor, please answer the medical...</td>\n",
       "      <td>lump under left nipple and stomach pain (male)...</td>\n",
       "      <td>HI. You have two different problems. The lump ...</td>\n",
       "    </tr>\n",
       "    <tr>\n",
       "      <th>4</th>\n",
       "      <td>If you are a doctor, please answer the medical...</td>\n",
       "      <td>I have a 5 month old baby who is very congeste...</td>\n",
       "      <td>Thank you for using Chat Doctor. I would sugge...</td>\n",
       "    </tr>\n",
       "    <tr>\n",
       "      <th>5</th>\n",
       "      <td>If you are a doctor, please answer the medical...</td>\n",
       "      <td>I am F 38 in good shape work out (do triathlon...</td>\n",
       "      <td>Hi, From history it seems that you might be ha...</td>\n",
       "    </tr>\n",
       "    <tr>\n",
       "      <th>6</th>\n",
       "      <td>If you are a doctor, please answer the medical...</td>\n",
       "      <td>sir, MY uncle has ILD-Interstitial Lung diseas...</td>\n",
       "      <td>Thanks for your question on Chat Doctor. I can...</td>\n",
       "    </tr>\n",
       "    <tr>\n",
       "      <th>7</th>\n",
       "      <td>If you are a doctor, please answer the medical...</td>\n",
       "      <td>my husband was working on a project in the hou...</td>\n",
       "      <td>Hello. It could be a blood collection due to m...</td>\n",
       "    </tr>\n",
       "    <tr>\n",
       "      <th>8</th>\n",
       "      <td>If you are a doctor, please answer the medical...</td>\n",
       "      <td>hi my nine year old son had a cough and flu sy...</td>\n",
       "      <td>Hi, If the symptoms persist that long this sug...</td>\n",
       "    </tr>\n",
       "    <tr>\n",
       "      <th>9</th>\n",
       "      <td>If you are a doctor, please answer the medical...</td>\n",
       "      <td>gyno problemsfor the past few months, I have b...</td>\n",
       "      <td>Dear Friend. Welcome to Chat Doctor. I am Chat...</td>\n",
       "    </tr>\n",
       "    <tr>\n",
       "      <th>10</th>\n",
       "      <td>If you are a doctor, please answer the medical...</td>\n",
       "      <td>I have found that I have an allergy to leotens...</td>\n",
       "      <td>Cellophane You for contacting Chat Doctor. All...</td>\n",
       "    </tr>\n",
       "    <tr>\n",
       "      <th>11</th>\n",
       "      <td>If you are a doctor, please answer the medical...</td>\n",
       "      <td>Hi my name is Wendy I ve been having an issue ...</td>\n",
       "      <td>HelloThanks for query. You have not mentioned ...</td>\n",
       "    </tr>\n",
       "    <tr>\n",
       "      <th>12</th>\n",
       "      <td>If you are a doctor, please answer the medical...</td>\n",
       "      <td>hye, My aunt is having shortness of breath and...</td>\n",
       "      <td>Thanks for your question on Chat Doctor. I can...</td>\n",
       "    </tr>\n",
       "    <tr>\n",
       "      <th>13</th>\n",
       "      <td>If you are a doctor, please answer the medical...</td>\n",
       "      <td>i am 28 yrs old, i got married before 6 year, ...</td>\n",
       "      <td>Hi, thank you for asking Chat Doctor I underst...</td>\n",
       "    </tr>\n",
       "    <tr>\n",
       "      <th>14</th>\n",
       "      <td>If you are a doctor, please answer the medical...</td>\n",
       "      <td>I sprained my foot on Friday. I stepped on wha...</td>\n",
       "      <td>Hello, You have sustained twisting injury to f...</td>\n",
       "    </tr>\n",
       "    <tr>\n",
       "      <th>15</th>\n",
       "      <td>If you are a doctor, please answer the medical...</td>\n",
       "      <td>hi, i have been recently diagnosed with H pylo...</td>\n",
       "      <td>HiT hanks for choosing Chat Doctor for your qu...</td>\n",
       "    </tr>\n",
       "    <tr>\n",
       "      <th>16</th>\n",
       "      <td>If you are a doctor, please answer the medical...</td>\n",
       "      <td>I had a alt reading about 2+ months ago of 43 ...</td>\n",
       "      <td>Hello and thank you for asking Chat Doctor. I ...</td>\n",
       "    </tr>\n",
       "    <tr>\n",
       "      <th>17</th>\n",
       "      <td>If you are a doctor, please answer the medical...</td>\n",
       "      <td>i had surgery done 5 months ago for scar tissu...</td>\n",
       "      <td>Hi. Thanks for your query and an elucidated hi...</td>\n",
       "    </tr>\n",
       "    <tr>\n",
       "      <th>18</th>\n",
       "      <td>If you are a doctor, please answer the medical...</td>\n",
       "      <td>Hi, I had a subarachnoid bleed and coiling of ...</td>\n",
       "      <td>Aneurysm in brain causes headache due to compr...</td>\n",
       "    </tr>\n",
       "    <tr>\n",
       "      <th>19</th>\n",
       "      <td>If you are a doctor, please answer the medical...</td>\n",
       "      <td>Almost everytime I eat, it burns when I swallo...</td>\n",
       "      <td>Thanks for your question on Chat Doctor. I can...</td>\n",
       "    </tr>\n",
       "  </tbody>\n",
       "</table>\n",
       "</div>"
      ],
      "text/plain": [
       "                                          instruction  \\\n",
       "0   If you are a doctor, please answer the medical...   \n",
       "1   If you are a doctor, please answer the medical...   \n",
       "2   If you are a doctor, please answer the medical...   \n",
       "3   If you are a doctor, please answer the medical...   \n",
       "4   If you are a doctor, please answer the medical...   \n",
       "5   If you are a doctor, please answer the medical...   \n",
       "6   If you are a doctor, please answer the medical...   \n",
       "7   If you are a doctor, please answer the medical...   \n",
       "8   If you are a doctor, please answer the medical...   \n",
       "9   If you are a doctor, please answer the medical...   \n",
       "10  If you are a doctor, please answer the medical...   \n",
       "11  If you are a doctor, please answer the medical...   \n",
       "12  If you are a doctor, please answer the medical...   \n",
       "13  If you are a doctor, please answer the medical...   \n",
       "14  If you are a doctor, please answer the medical...   \n",
       "15  If you are a doctor, please answer the medical...   \n",
       "16  If you are a doctor, please answer the medical...   \n",
       "17  If you are a doctor, please answer the medical...   \n",
       "18  If you are a doctor, please answer the medical...   \n",
       "19  If you are a doctor, please answer the medical...   \n",
       "\n",
       "                                                input  \\\n",
       "0   I woke up this morning feeling the whole room ...   \n",
       "1   My baby has been pooing 5-6 times a day for a ...   \n",
       "2   Hello, My husband is taking Oxycodone due to a...   \n",
       "3   lump under left nipple and stomach pain (male)...   \n",
       "4   I have a 5 month old baby who is very congeste...   \n",
       "5   I am F 38 in good shape work out (do triathlon...   \n",
       "6   sir, MY uncle has ILD-Interstitial Lung diseas...   \n",
       "7   my husband was working on a project in the hou...   \n",
       "8   hi my nine year old son had a cough and flu sy...   \n",
       "9   gyno problemsfor the past few months, I have b...   \n",
       "10  I have found that I have an allergy to leotens...   \n",
       "11  Hi my name is Wendy I ve been having an issue ...   \n",
       "12  hye, My aunt is having shortness of breath and...   \n",
       "13  i am 28 yrs old, i got married before 6 year, ...   \n",
       "14  I sprained my foot on Friday. I stepped on wha...   \n",
       "15  hi, i have been recently diagnosed with H pylo...   \n",
       "16  I had a alt reading about 2+ months ago of 43 ...   \n",
       "17  i had surgery done 5 months ago for scar tissu...   \n",
       "18  Hi, I had a subarachnoid bleed and coiling of ...   \n",
       "19  Almost everytime I eat, it burns when I swallo...   \n",
       "\n",
       "                                               output  \n",
       "0   Hi, Thank you for posting your query. The most...  \n",
       "1   Hi... Thank you for consulting in Chat Doctor....  \n",
       "2   Hello, and I hope I can help you today.First, ...  \n",
       "3   HI. You have two different problems. The lump ...  \n",
       "4   Thank you for using Chat Doctor. I would sugge...  \n",
       "5   Hi, From history it seems that you might be ha...  \n",
       "6   Thanks for your question on Chat Doctor. I can...  \n",
       "7   Hello. It could be a blood collection due to m...  \n",
       "8   Hi, If the symptoms persist that long this sug...  \n",
       "9   Dear Friend. Welcome to Chat Doctor. I am Chat...  \n",
       "10  Cellophane You for contacting Chat Doctor. All...  \n",
       "11  HelloThanks for query. You have not mentioned ...  \n",
       "12  Thanks for your question on Chat Doctor. I can...  \n",
       "13  Hi, thank you for asking Chat Doctor I underst...  \n",
       "14  Hello, You have sustained twisting injury to f...  \n",
       "15  HiT hanks for choosing Chat Doctor for your qu...  \n",
       "16  Hello and thank you for asking Chat Doctor. I ...  \n",
       "17  Hi. Thanks for your query and an elucidated hi...  \n",
       "18  Aneurysm in brain causes headache due to compr...  \n",
       "19  Thanks for your question on Chat Doctor. I can...  "
      ]
     },
     "execution_count": 5,
     "metadata": {},
     "output_type": "execute_result"
    }
   ],
   "source": [
    "# Preview Dataset\n",
    "df.head(20)"
   ]
  },
  {
   "cell_type": "code",
   "execution_count": 7,
   "metadata": {},
   "outputs": [],
   "source": [
    "# Custom Prompt Function\n",
    "def format_prompt(row):\n",
    "  return f\"\"\"<|start_header_id|>system<|end_header_id|>{row[\"instruction\"]}<|eot_id|><|start_header_id|>user<|end_header_id|> This is the question: {row[\"input\"]}<|eot_id|><|start_header_id|>assistant<|end_header_id|>{row[\"output\"]}<|eot_id|>\"\"\""
   ]
  },
  {
   "cell_type": "code",
   "execution_count": 8,
   "metadata": {},
   "outputs": [],
   "source": [
    "# Apply Custom Prompt Function\n",
    "df['Prompt'] = df.apply(format_prompt, axis=1)"
   ]
  },
  {
   "cell_type": "code",
   "execution_count": 9,
   "metadata": {},
   "outputs": [
    {
     "data": {
      "application/vnd.microsoft.datawrangler.viewer.v0+json": {
       "columns": [
        {
         "name": "index",
         "rawType": "int64",
         "type": "integer"
        },
        {
         "name": "instruction",
         "rawType": "object",
         "type": "string"
        },
        {
         "name": "input",
         "rawType": "object",
         "type": "string"
        },
        {
         "name": "output",
         "rawType": "object",
         "type": "string"
        },
        {
         "name": "Prompt",
         "rawType": "object",
         "type": "string"
        }
       ],
       "conversionMethod": "pd.DataFrame",
       "ref": "ceebc5e4-af8f-4559-8a59-44c08c797f95",
       "rows": [
        [
         "0",
         "If you are a doctor, please answer the medical questions based on the patient's description.",
         "I woke up this morning feeling the whole room is spinning when i was sitting down. I went to the bathroom walking unsteadily, as i tried to focus i feel nauseous. I try to vomit but it wont come out.. After taking panadol and sleep for few hours, i still feel the same.. By the way, if i lay down or sit down, my head do not spin, only when i want to move around then i feel the whole world is spinning.. And it is normal stomach discomfort at the same time? Earlier after i relieved myself, the spinning lessen so i am not sure whether its connected or coincidences.. Thank you doc!",
         "Hi, Thank you for posting your query. The most likely cause for your symptoms is benign paroxysmal positional vertigo (BPPV), a type of peripheral vertigo. In this condition, the most common symptom is dizziness or giddiness, which is made worse with movements. Accompanying nausea and vomiting are common. The condition is due to problem in the ear, and improves in a few days on own. Betahistine tablets would help relieve your symptoms. Doing vestibular rehabilitation or adaptation exercises would prevent the recurrence of these symptoms. An ENT evaluation would also help. I hope it helps. Best wishes, Chat Doctor.",
         "<|start_header_id|>system<|end_header_id|>If you are a doctor, please answer the medical questions based on the patient's description.<|eot_id|><|start_header_id|>user<|end_header_id|> This is the question: I woke up this morning feeling the whole room is spinning when i was sitting down. I went to the bathroom walking unsteadily, as i tried to focus i feel nauseous. I try to vomit but it wont come out.. After taking panadol and sleep for few hours, i still feel the same.. By the way, if i lay down or sit down, my head do not spin, only when i want to move around then i feel the whole world is spinning.. And it is normal stomach discomfort at the same time? Earlier after i relieved myself, the spinning lessen so i am not sure whether its connected or coincidences.. Thank you doc!<|eot_id|><|start_header_id|>assistant<|end_header_id|>Hi, Thank you for posting your query. The most likely cause for your symptoms is benign paroxysmal positional vertigo (BPPV), a type of peripheral vertigo. In this condition, the most common symptom is dizziness or giddiness, which is made worse with movements. Accompanying nausea and vomiting are common. The condition is due to problem in the ear, and improves in a few days on own. Betahistine tablets would help relieve your symptoms. Doing vestibular rehabilitation or adaptation exercises would prevent the recurrence of these symptoms. An ENT evaluation would also help. I hope it helps. Best wishes, Chat Doctor.<|eot_id|>"
        ],
        [
         "1",
         "If you are a doctor, please answer the medical questions based on the patient's description.",
         "My baby has been pooing 5-6 times a day for a week. In the last few days it has increased to 7 and they are very watery with green stringy bits in them. He does not seem unwell i.e no temperature and still eating. He now has a very bad nappy rash from the pooing ...help!",
         "Hi... Thank you for consulting in Chat Doctor. It seems your kid is having viral diarrhea. Once it starts it will take 5-7 days to completely get better. Unless the kids having low urine output or very dull or excessively sleepy or blood in motion or green bilious vomiting...you need not worry. There is no need to use antibiotics unless there is blood in the motion. Antibiotics might worsen if unnecessarily used causing antibiotic associated diarrhea. I suggest you use zinc supplements (Z&D Chat Doctor.",
         "<|start_header_id|>system<|end_header_id|>If you are a doctor, please answer the medical questions based on the patient's description.<|eot_id|><|start_header_id|>user<|end_header_id|> This is the question: My baby has been pooing 5-6 times a day for a week. In the last few days it has increased to 7 and they are very watery with green stringy bits in them. He does not seem unwell i.e no temperature and still eating. He now has a very bad nappy rash from the pooing ...help!<|eot_id|><|start_header_id|>assistant<|end_header_id|>Hi... Thank you for consulting in Chat Doctor. It seems your kid is having viral diarrhea. Once it starts it will take 5-7 days to completely get better. Unless the kids having low urine output or very dull or excessively sleepy or blood in motion or green bilious vomiting...you need not worry. There is no need to use antibiotics unless there is blood in the motion. Antibiotics might worsen if unnecessarily used causing antibiotic associated diarrhea. I suggest you use zinc supplements (Z&D Chat Doctor.<|eot_id|>"
        ],
        [
         "2",
         "If you are a doctor, please answer the medical questions based on the patient's description.",
         "Hello, My husband is taking Oxycodone due to a broken leg/surgery. He has been taking this pain medication for one month. We are trying to conceive our second baby. Will this medication afect the fetus? Or the health of the baby? Or can it bring birth defects? Thank you.",
         "Hello, and I hope I can help you today.First, there is no medication that can be taken by the father that has any way to get into your system or a baby if you conceive.  Medications can only affect a fetus if you take it while pregnant. The only issue is that certain medications may decrease a men sperm count and affect fertility, however pain medications like Oxycodone do not have this effect. So there is no reason for you to worry about conceiving while taking this medication.  The best way you can prepare for a healthy pregnancy is to follow a well-balanced diet, limit alcohol consumption and avoid cigarette smoke, and take a daily prenatal vitamin or folic acid, as folic acid supplements in early pregnancy helps to prevent certain types of birth defects. I hope this answers your question and best wishes for your upcoming pregnancy,",
         "<|start_header_id|>system<|end_header_id|>If you are a doctor, please answer the medical questions based on the patient's description.<|eot_id|><|start_header_id|>user<|end_header_id|> This is the question: Hello, My husband is taking Oxycodone due to a broken leg/surgery. He has been taking this pain medication for one month. We are trying to conceive our second baby. Will this medication afect the fetus? Or the health of the baby? Or can it bring birth defects? Thank you.<|eot_id|><|start_header_id|>assistant<|end_header_id|>Hello, and I hope I can help you today.First, there is no medication that can be taken by the father that has any way to get into your system or a baby if you conceive.  Medications can only affect a fetus if you take it while pregnant. The only issue is that certain medications may decrease a men sperm count and affect fertility, however pain medications like Oxycodone do not have this effect. So there is no reason for you to worry about conceiving while taking this medication.  The best way you can prepare for a healthy pregnancy is to follow a well-balanced diet, limit alcohol consumption and avoid cigarette smoke, and take a daily prenatal vitamin or folic acid, as folic acid supplements in early pregnancy helps to prevent certain types of birth defects. I hope this answers your question and best wishes for your upcoming pregnancy,<|eot_id|>"
        ],
        [
         "3",
         "If you are a doctor, please answer the medical questions based on the patient's description.",
         "lump under left nipple and stomach pain (male) Hi,I have recently noticed a few weeks ago a lump under my nipple, it hurts to touch and is about the size of a quarter. Also I have bern experiencing stomach pains that prevent me from eating. I immediatly feel full and have extreme pain. Please help",
         "HI. You have two different problems. The lump under the nipple should be removed, biopsied. This will help you to get rid of the disease, and you get a diagnosis. Second problem looks a bit serious one",
         "<|start_header_id|>system<|end_header_id|>If you are a doctor, please answer the medical questions based on the patient's description.<|eot_id|><|start_header_id|>user<|end_header_id|> This is the question: lump under left nipple and stomach pain (male) Hi,I have recently noticed a few weeks ago a lump under my nipple, it hurts to touch and is about the size of a quarter. Also I have bern experiencing stomach pains that prevent me from eating. I immediatly feel full and have extreme pain. Please help<|eot_id|><|start_header_id|>assistant<|end_header_id|>HI. You have two different problems. The lump under the nipple should be removed, biopsied. This will help you to get rid of the disease, and you get a diagnosis. Second problem looks a bit serious one<|eot_id|>"
        ],
        [
         "4",
         "If you are a doctor, please answer the medical questions based on the patient's description.",
         "I have a 5 month old baby who is very congested with a terrible cough. Its rattly/raspy and croupy sounding cough. She started choking on her coughs and the mucous that has come up. She also has a fever and runny nose. Should i take her to urgent care?",
         "Thank you for using Chat Doctor. I would suggest that you see your doctor. Your baby maybe having bronchiolitis which is a lung infection common to your kids age. It is commonly caused by a virus. Albuterol via nebulization should be utilized in order to alleviate the wheezing and also help with the congestion. A decongestant can also be used for the colds. Also, it would also advise doing a chest X-ray in order to rule out other diseases (ex. pneumonia)sincerely, Mark RosarioGeneral pediatrics/Pediatric Pulmonology",
         "<|start_header_id|>system<|end_header_id|>If you are a doctor, please answer the medical questions based on the patient's description.<|eot_id|><|start_header_id|>user<|end_header_id|> This is the question: I have a 5 month old baby who is very congested with a terrible cough. Its rattly/raspy and croupy sounding cough. She started choking on her coughs and the mucous that has come up. She also has a fever and runny nose. Should i take her to urgent care?<|eot_id|><|start_header_id|>assistant<|end_header_id|>Thank you for using Chat Doctor. I would suggest that you see your doctor. Your baby maybe having bronchiolitis which is a lung infection common to your kids age. It is commonly caused by a virus. Albuterol via nebulization should be utilized in order to alleviate the wheezing and also help with the congestion. A decongestant can also be used for the colds. Also, it would also advise doing a chest X-ray in order to rule out other diseases (ex. pneumonia)sincerely, Mark RosarioGeneral pediatrics/Pediatric Pulmonology<|eot_id|>"
        ],
        [
         "5",
         "If you are a doctor, please answer the medical questions based on the patient's description.",
         "I am F 38 in good shape work out (do triathlons) regular but have had back pain from different reasons throughout my life now I every so often wake up with severe lower back, hip pain for no reason. today the pain is almost taking my breathe away when i move. It is a dull pain when i am just lying down but the moment I make any sort of movement I have sharp and sometimes shooting pain down my legs.",
         "Hi, From history it seems that you might be having degenerative changes in your lower back spines giving pinched nerve pressure. There might be having osteomalacia or osteoporosis as well. Go for x-ray lumbosacral region for osteoarthritis. Physiotherapy like back extension exercises will be much helpful. Take B1, B6, B!2 shots or medicine. Take calcium, vitamin A and D supplements. Ok and take care.",
         "<|start_header_id|>system<|end_header_id|>If you are a doctor, please answer the medical questions based on the patient's description.<|eot_id|><|start_header_id|>user<|end_header_id|> This is the question: I am F 38 in good shape work out (do triathlons) regular but have had back pain from different reasons throughout my life now I every so often wake up with severe lower back, hip pain for no reason. today the pain is almost taking my breathe away when i move. It is a dull pain when i am just lying down but the moment I make any sort of movement I have sharp and sometimes shooting pain down my legs.<|eot_id|><|start_header_id|>assistant<|end_header_id|>Hi, From history it seems that you might be having degenerative changes in your lower back spines giving pinched nerve pressure. There might be having osteomalacia or osteoporosis as well. Go for x-ray lumbosacral region for osteoarthritis. Physiotherapy like back extension exercises will be much helpful. Take B1, B6, B!2 shots or medicine. Take calcium, vitamin A and D supplements. Ok and take care.<|eot_id|>"
        ],
        [
         "6",
         "If you are a doctor, please answer the medical questions based on the patient's description.",
         "sir, MY uncle has ILD-Interstitial Lung disease.from my research over google i found that the cause is important to be known. the cause wat i feel is due to breakage of acid bottle in bathroom which caused lot of smoke and that time he wasnot able to be normal for 15-20 minutes. then he was normal .may be that would have been the reason for this ILD. Please suggest wat we should do",
         "Thanks for your question on Chat Doctor. I can understand your concern. OLD (interstitial lung disease) can not be caused by single exposure of any chemical. Chronic exposure (for years) of chemicals can cause OLD. It is not possible to find out cause for each and every OLD patient. Some patients can develop OLD just because of aging (old age). So your uncle is not having OLD due to breakage of acid bottle. He might be having age related OLD. Better to start Perfinodone and N acetyl cysteine (NAC) for OLD rather than searching for cause. Hope I have solved your query. I will be happy to help you further. Wishing good health to your uncle. Thanks.",
         "<|start_header_id|>system<|end_header_id|>If you are a doctor, please answer the medical questions based on the patient's description.<|eot_id|><|start_header_id|>user<|end_header_id|> This is the question: sir, MY uncle has ILD-Interstitial Lung disease.from my research over google i found that the cause is important to be known. the cause wat i feel is due to breakage of acid bottle in bathroom which caused lot of smoke and that time he wasnot able to be normal for 15-20 minutes. then he was normal .may be that would have been the reason for this ILD. Please suggest wat we should do<|eot_id|><|start_header_id|>assistant<|end_header_id|>Thanks for your question on Chat Doctor. I can understand your concern. OLD (interstitial lung disease) can not be caused by single exposure of any chemical. Chronic exposure (for years) of chemicals can cause OLD. It is not possible to find out cause for each and every OLD patient. Some patients can develop OLD just because of aging (old age). So your uncle is not having OLD due to breakage of acid bottle. He might be having age related OLD. Better to start Perfinodone and N acetyl cysteine (NAC) for OLD rather than searching for cause. Hope I have solved your query. I will be happy to help you further. Wishing good health to your uncle. Thanks.<|eot_id|>"
        ],
        [
         "7",
         "If you are a doctor, please answer the medical questions based on the patient's description.",
         "my husband was working on a project in the house and all of a sudden a bump about the size of a half dollar appeard on his left leg inside below the knee. He is 69 years old and had triple by pass surgery 7 years ago. It stung when it first happened. Doesn t hurt now. He is seated with his leg ellevated. Is this an emergency?",
         "Hello. It could be a blood collection due to minor injury or a vein rupture which is also common at this age. It is not an emergency, but you should apply compression bandage and warm compresses if six hours have past. Furthermore, it should get relieved over the next few days but if it continues to increase or persist then you should see a Doctor who can examine the patient. Take care.  Chat Doctor.",
         "<|start_header_id|>system<|end_header_id|>If you are a doctor, please answer the medical questions based on the patient's description.<|eot_id|><|start_header_id|>user<|end_header_id|> This is the question: my husband was working on a project in the house and all of a sudden a bump about the size of a half dollar appeard on his left leg inside below the knee. He is 69 years old and had triple by pass surgery 7 years ago. It stung when it first happened. Doesn t hurt now. He is seated with his leg ellevated. Is this an emergency?<|eot_id|><|start_header_id|>assistant<|end_header_id|>Hello. It could be a blood collection due to minor injury or a vein rupture which is also common at this age. It is not an emergency, but you should apply compression bandage and warm compresses if six hours have past. Furthermore, it should get relieved over the next few days but if it continues to increase or persist then you should see a Doctor who can examine the patient. Take care.  Chat Doctor.<|eot_id|>"
        ],
        [
         "8",
         "If you are a doctor, please answer the medical questions based on the patient's description.",
         "hi my nine year old son had a cough and flu symptons three months ago and the chesty sounding cough and green phlegm still remains. it did seem to get better but never totally went and has now picked up again...he has only ever had antibiotics once in his live which suggests he his generally fitand well and active...never short of breath or weezy...so why would this be....",
         "Hi, If the symptoms persist that long this suggests the presence of an allergic element. To treat that kind of allergy you can give him an over the counter antihistamines once daily before going to bed. A cough suppressant as dextromethorphan and an expectorant as Murine will help reduce the cough. Make sure he Chat Doctor.  If the green phlegm persists he might require an antibiotic. Hope I have answered your query. Let me know if I can assist you further.",
         "<|start_header_id|>system<|end_header_id|>If you are a doctor, please answer the medical questions based on the patient's description.<|eot_id|><|start_header_id|>user<|end_header_id|> This is the question: hi my nine year old son had a cough and flu symptons three months ago and the chesty sounding cough and green phlegm still remains. it did seem to get better but never totally went and has now picked up again...he has only ever had antibiotics once in his live which suggests he his generally fitand well and active...never short of breath or weezy...so why would this be....<|eot_id|><|start_header_id|>assistant<|end_header_id|>Hi, If the symptoms persist that long this suggests the presence of an allergic element. To treat that kind of allergy you can give him an over the counter antihistamines once daily before going to bed. A cough suppressant as dextromethorphan and an expectorant as Murine will help reduce the cough. Make sure he Chat Doctor.  If the green phlegm persists he might require an antibiotic. Hope I have answered your query. Let me know if I can assist you further.<|eot_id|>"
        ],
        [
         "9",
         "If you are a doctor, please answer the medical questions based on the patient's description.",
         "gyno problemsfor the past few months, I have been having issues with my vagina. there always seems to be something wrong with me. its either an infection or a yeast infection from the medication used to treat the previous infection or a herpes outbreak as a result of a yeast infection. most recently, I had a uti. I was treated for that and everything seemed fine, until after I finished the medication. it still hurt when I had sex and still is uncomfortable to pee. I dont know whats going on and this has been going on for months.",
         "Dear Friend. Welcome to Chat Doctor. I am Chat Doctor. I understand your concern. Recurring yeast / final infection occur due to",
         "<|start_header_id|>system<|end_header_id|>If you are a doctor, please answer the medical questions based on the patient's description.<|eot_id|><|start_header_id|>user<|end_header_id|> This is the question: gyno problemsfor the past few months, I have been having issues with my vagina. there always seems to be something wrong with me. its either an infection or a yeast infection from the medication used to treat the previous infection or a herpes outbreak as a result of a yeast infection. most recently, I had a uti. I was treated for that and everything seemed fine, until after I finished the medication. it still hurt when I had sex and still is uncomfortable to pee. I dont know whats going on and this has been going on for months.<|eot_id|><|start_header_id|>assistant<|end_header_id|>Dear Friend. Welcome to Chat Doctor. I am Chat Doctor. I understand your concern. Recurring yeast / final infection occur due to<|eot_id|>"
        ],
        [
         "10",
         "If you are a doctor, please answer the medical questions based on the patient's description.",
         "I have found that I have an allergy to leotensin. They have taken me off of everything....I found in the information that one side effect if the red skin lensions with a purple center. I was looking to see if there was anything I could do to help the spots go away. I am a dental hygienist and I will be working the next two days. Is there anything that would cover them, so the patients would not be aware???",
         "Cellophane You for contacting Chat Doctor. Allergic reaction takes some time to settle. In the meanwhile you can cover it over the body by wearing appropriate long clothes which can cover most of the body to hide it. If itching occurs then you can take cetirizine once daily to prevent itching. Hope this answers your question. If you have additional questions or follow-up questions then please do not hesitate in writing to us. Wishing you good health.",
         "<|start_header_id|>system<|end_header_id|>If you are a doctor, please answer the medical questions based on the patient's description.<|eot_id|><|start_header_id|>user<|end_header_id|> This is the question: I have found that I have an allergy to leotensin. They have taken me off of everything....I found in the information that one side effect if the red skin lensions with a purple center. I was looking to see if there was anything I could do to help the spots go away. I am a dental hygienist and I will be working the next two days. Is there anything that would cover them, so the patients would not be aware???<|eot_id|><|start_header_id|>assistant<|end_header_id|>Cellophane You for contacting Chat Doctor. Allergic reaction takes some time to settle. In the meanwhile you can cover it over the body by wearing appropriate long clothes which can cover most of the body to hide it. If itching occurs then you can take cetirizine once daily to prevent itching. Hope this answers your question. If you have additional questions or follow-up questions then please do not hesitate in writing to us. Wishing you good health.<|eot_id|>"
        ],
        [
         "11",
         "If you are a doctor, please answer the medical questions based on the patient's description.",
         "Hi my name is Wendy I ve been having an issue for the last couple of months or so I been having severe pain in my lower back around the front into the groin area and its radiating down my thigh and so on I am currently a cancer patient nobody seems to be able to tell me what it could be the pain is so bad that it brings tears to my eyes would you possibly know what it could be or might be",
         "HelloThanks for query. You have not mentioned in your query details regarding cancer you are suffering from. The pain in back radiating down to thigh can be mostly due to metastasis in the spines or in to lymph nodes, You need to consult your treating oncologist and get evaluated by doing C. T scan of abdomen and pelvis and Bone scan. Further treatment will depend upon result of these tests and final diagnosis. Chat Doctor.",
         "<|start_header_id|>system<|end_header_id|>If you are a doctor, please answer the medical questions based on the patient's description.<|eot_id|><|start_header_id|>user<|end_header_id|> This is the question: Hi my name is Wendy I ve been having an issue for the last couple of months or so I been having severe pain in my lower back around the front into the groin area and its radiating down my thigh and so on I am currently a cancer patient nobody seems to be able to tell me what it could be the pain is so bad that it brings tears to my eyes would you possibly know what it could be or might be<|eot_id|><|start_header_id|>assistant<|end_header_id|>HelloThanks for query. You have not mentioned in your query details regarding cancer you are suffering from. The pain in back radiating down to thigh can be mostly due to metastasis in the spines or in to lymph nodes, You need to consult your treating oncologist and get evaluated by doing C. T scan of abdomen and pelvis and Bone scan. Further treatment will depend upon result of these tests and final diagnosis. Chat Doctor.<|eot_id|>"
        ],
        [
         "12",
         "If you are a doctor, please answer the medical questions based on the patient's description.",
         "hye, My aunt is having shortness of breath and she is on vent now. Her breast showed some kind of infection that apparently turned out to have black blisters. I could she those spreading. When we went for lungs x-ray doctor said she has accumulation of water in her lungs",
         "Thanks for your question on Chat Doctor. I can understand your aunts situation and problem. By your history and description, possibility of bacterial infection especially staphylococcus is more in her case. She is having pleural effusion and infective skin lesions on breast. Staphylococcus can cause pleural effusion and blister formation on skin. So chances of staphylococcal infection is more in her case. Better to send pleural fluid culture and sensitivity for the diagnosis of staphylococcal infection. This will also tell about effective antibiotic therapy. With appropriate antibiotics and Care, this infection can be treated. Hope I have solved your query. Wishing good health to your aunt. Thanks.",
         "<|start_header_id|>system<|end_header_id|>If you are a doctor, please answer the medical questions based on the patient's description.<|eot_id|><|start_header_id|>user<|end_header_id|> This is the question: hye, My aunt is having shortness of breath and she is on vent now. Her breast showed some kind of infection that apparently turned out to have black blisters. I could she those spreading. When we went for lungs x-ray doctor said she has accumulation of water in her lungs<|eot_id|><|start_header_id|>assistant<|end_header_id|>Thanks for your question on Chat Doctor. I can understand your aunts situation and problem. By your history and description, possibility of bacterial infection especially staphylococcus is more in her case. She is having pleural effusion and infective skin lesions on breast. Staphylococcus can cause pleural effusion and blister formation on skin. So chances of staphylococcal infection is more in her case. Better to send pleural fluid culture and sensitivity for the diagnosis of staphylococcal infection. This will also tell about effective antibiotic therapy. With appropriate antibiotics and Care, this infection can be treated. Hope I have solved your query. Wishing good health to your aunt. Thanks.<|eot_id|>"
        ],
        [
         "13",
         "If you are a doctor, please answer the medical questions based on the patient's description.",
         "i am 28 yrs old, i got married before 6 year, i was infected by pulmonary tuberculosis before 6 years, i took treatment for 6 months after that i statred gainig weigt, my periods was irredulat, i increased nearlt 20 kgs after that, now my weight is 75 kgs, i trying to conceive, i took tsh, other blood test too, but everything is normal, do i have the chances to conceive",
         "Hi, thank you for asking Chat Doctor I understand your concerns No need to worry so much. The chances of conceiving still exist with irregular periods. I don't know if you have been trying to conceive but to no avail. If that is the case, then I think both of you have to be assessed. Infertility within a couple can be linked to a man, woman or both. If everything is fine with you except irregular periods, then I would advise that both of you should see a doctor for assessment and counseling. I hope that helps wish you well",
         "<|start_header_id|>system<|end_header_id|>If you are a doctor, please answer the medical questions based on the patient's description.<|eot_id|><|start_header_id|>user<|end_header_id|> This is the question: i am 28 yrs old, i got married before 6 year, i was infected by pulmonary tuberculosis before 6 years, i took treatment for 6 months after that i statred gainig weigt, my periods was irredulat, i increased nearlt 20 kgs after that, now my weight is 75 kgs, i trying to conceive, i took tsh, other blood test too, but everything is normal, do i have the chances to conceive<|eot_id|><|start_header_id|>assistant<|end_header_id|>Hi, thank you for asking Chat Doctor I understand your concerns No need to worry so much. The chances of conceiving still exist with irregular periods. I don't know if you have been trying to conceive but to no avail. If that is the case, then I think both of you have to be assessed. Infertility within a couple can be linked to a man, woman or both. If everything is fine with you except irregular periods, then I would advise that both of you should see a doctor for assessment and counseling. I hope that helps wish you well<|eot_id|>"
        ],
        [
         "14",
         "If you are a doctor, please answer the medical questions based on the patient's description.",
         "I sprained my foot on Friday. I stepped on what I thought was lawn. Instead I was a bit on the lawn, but the outside of my foot snapped down into a trough. My foot has been swollen since Friday. Today is Thursday. Kept ice on it for 24 hours. Bruising started after that, Now bruising is spreading. It is really dark on my toes. Pain is on outside of my foot, not on my ankle.",
         "Hello, You have sustained twisting injury to foot which may lead to sprain or minor fracture in foot bones. Diagnosis needs to be confirmed by doing x-ray of the involved foot anteroposterior and oblique views to rule out bony abnormalities. If x-ray is normal RICE therapy is needed which means Rest Ice application Compression bandage and Limb Elevation. Tab Diclofenac sodium twice a day for pain relief and tab Choral forte twice a day for swelling reduction is required. If x-ray shows fracture Below knee slab may be given. If X-ray is abnormal please consult orthopedic surgeon nearby your area.  Hope I have answered your query. Let me know if I can assist you further.",
         "<|start_header_id|>system<|end_header_id|>If you are a doctor, please answer the medical questions based on the patient's description.<|eot_id|><|start_header_id|>user<|end_header_id|> This is the question: I sprained my foot on Friday. I stepped on what I thought was lawn. Instead I was a bit on the lawn, but the outside of my foot snapped down into a trough. My foot has been swollen since Friday. Today is Thursday. Kept ice on it for 24 hours. Bruising started after that, Now bruising is spreading. It is really dark on my toes. Pain is on outside of my foot, not on my ankle.<|eot_id|><|start_header_id|>assistant<|end_header_id|>Hello, You have sustained twisting injury to foot which may lead to sprain or minor fracture in foot bones. Diagnosis needs to be confirmed by doing x-ray of the involved foot anteroposterior and oblique views to rule out bony abnormalities. If x-ray is normal RICE therapy is needed which means Rest Ice application Compression bandage and Limb Elevation. Tab Diclofenac sodium twice a day for pain relief and tab Choral forte twice a day for swelling reduction is required. If x-ray shows fracture Below knee slab may be given. If X-ray is abnormal please consult orthopedic surgeon nearby your area.  Hope I have answered your query. Let me know if I can assist you further.<|eot_id|>"
        ],
        [
         "15",
         "If you are a doctor, please answer the medical questions based on the patient's description.",
         "hi, i have been recently diagnosed with H pylori.. i have been give the triple treatment of calithramycin, amoxxicilin and omeprazole.. is dis something very serious and does this have some long term implications etc.can u plz give some detailed information about Hpylori. thnx",
         "HiT hanks for choosing Chat Doctor for your query. I appreciate your concern towards H pylori infection which normally causes break in the lining of the stomach (peptic ulcer). H pylori is an exceptional bacterium which can survive in the acidic environment of the stomach producing tissue damage result in ulcer. Since this is a bacterial infection, hence antibiotics are used for 2 weeks to kill H pylori. Along with antibiotics Omeprazole is given for a period of 4-6 weeks to suppress the acid production and to increase the healing process of the ulcer. It is not a serious condition, usually triple treatment is sufficient to cure this condition. You must avoid taking Alcohol, hot and spicy foods, NSAID painkiller, smoking, caffeine, carbonated sweetened soft Chat Doctor. I hope all your doubts have been clarified in a simple language,Feedback in this regard is highly appreciated. Take care",
         "<|start_header_id|>system<|end_header_id|>If you are a doctor, please answer the medical questions based on the patient's description.<|eot_id|><|start_header_id|>user<|end_header_id|> This is the question: hi, i have been recently diagnosed with H pylori.. i have been give the triple treatment of calithramycin, amoxxicilin and omeprazole.. is dis something very serious and does this have some long term implications etc.can u plz give some detailed information about Hpylori. thnx<|eot_id|><|start_header_id|>assistant<|end_header_id|>HiT hanks for choosing Chat Doctor for your query. I appreciate your concern towards H pylori infection which normally causes break in the lining of the stomach (peptic ulcer). H pylori is an exceptional bacterium which can survive in the acidic environment of the stomach producing tissue damage result in ulcer. Since this is a bacterial infection, hence antibiotics are used for 2 weeks to kill H pylori. Along with antibiotics Omeprazole is given for a period of 4-6 weeks to suppress the acid production and to increase the healing process of the ulcer. It is not a serious condition, usually triple treatment is sufficient to cure this condition. You must avoid taking Alcohol, hot and spicy foods, NSAID painkiller, smoking, caffeine, carbonated sweetened soft Chat Doctor. I hope all your doubts have been clarified in a simple language,Feedback in this regard is highly appreciated. Take care<|eot_id|>"
        ],
        [
         "16",
         "If you are a doctor, please answer the medical questions based on the patient's description.",
         "I had a alt reading about 2+ months ago of 43 then retested today and got a 60 alt reading my other readings came back normal should I be concerned?Im 40 years 5ft 3 and weigh 192albs have a history of chronic vertigo and insomnia, and chronic sinus problems. I take valium 5 mg 4 times a day, fluticansone 2 puffs each nose once a day, qvair two puffs twice a day to prevent weasing, claritin for allergies, and I do sinus rinses as needed. I am female.My doctor says none of the medicine has liver side effects, and I dont drink alcohol but a sip on the rare occasion. He thinks it could be do my weight and Im working on this with gradual exercise when Im able too. Should I be worried with this test result? I had one other result that was high my triglcyerides read 198 ? WWW.WWWW.WW",
         "Hello and thank you for asking Chat Doctor. I have read your report, and I understand your concerns. First I would say to not worry. Normal Alt levels are 7 to 56 unit (depending on from the kits that laboratories use)In one of your tests, your Alt was 60. This level is almost normal and it doesn't always mean a serious condition of your liver. Here are some reasons why a healthy person might have changes in the levels of liver enzymes",
         "<|start_header_id|>system<|end_header_id|>If you are a doctor, please answer the medical questions based on the patient's description.<|eot_id|><|start_header_id|>user<|end_header_id|> This is the question: I had a alt reading about 2+ months ago of 43 then retested today and got a 60 alt reading my other readings came back normal should I be concerned?Im 40 years 5ft 3 and weigh 192albs have a history of chronic vertigo and insomnia, and chronic sinus problems. I take valium 5 mg 4 times a day, fluticansone 2 puffs each nose once a day, qvair two puffs twice a day to prevent weasing, claritin for allergies, and I do sinus rinses as needed. I am female.My doctor says none of the medicine has liver side effects, and I dont drink alcohol but a sip on the rare occasion. He thinks it could be do my weight and Im working on this with gradual exercise when Im able too. Should I be worried with this test result? I had one other result that was high my triglcyerides read 198 ? WWW.WWWW.WW<|eot_id|><|start_header_id|>assistant<|end_header_id|>Hello and thank you for asking Chat Doctor. I have read your report, and I understand your concerns. First I would say to not worry. Normal Alt levels are 7 to 56 unit (depending on from the kits that laboratories use)In one of your tests, your Alt was 60. This level is almost normal and it doesn't always mean a serious condition of your liver. Here are some reasons why a healthy person might have changes in the levels of liver enzymes<|eot_id|>"
        ],
        [
         "17",
         "If you are a doctor, please answer the medical questions based on the patient's description.",
         "i had surgery done 5 months ago for scar tissue and adhesion removal. my gynecologist just found a cyst on my right ovary. im still having problems, when my husband and i have sex i get severe cervical pain and afterward i get abdominal cramps severe enough i get light headed, also i get abdominal pain and rectal pain before and during a bowel movement, i also get abdominal pain during urination. im 26 years old. what could it be?",
         "Hi. Thanks for your query and an elucidated history. Understood the history well. You have an obvious reason for pain - the adhesions and scar must have reformed. But the history of Dyspareunia, meaning painful sex indicated the is some active inflammatory process still going on in the pelvis called PID-Pelvic Inflammatory Disease. Cystitis and Procto-colitis are the additional problems causing the pain in abdomen and rectum before and during bowel movements as also during urination. Ovarian cyst can cause problem only if it enlarges fast or gets twisted. I would advise you the following",
         "<|start_header_id|>system<|end_header_id|>If you are a doctor, please answer the medical questions based on the patient's description.<|eot_id|><|start_header_id|>user<|end_header_id|> This is the question: i had surgery done 5 months ago for scar tissue and adhesion removal. my gynecologist just found a cyst on my right ovary. im still having problems, when my husband and i have sex i get severe cervical pain and afterward i get abdominal cramps severe enough i get light headed, also i get abdominal pain and rectal pain before and during a bowel movement, i also get abdominal pain during urination. im 26 years old. what could it be?<|eot_id|><|start_header_id|>assistant<|end_header_id|>Hi. Thanks for your query and an elucidated history. Understood the history well. You have an obvious reason for pain - the adhesions and scar must have reformed. But the history of Dyspareunia, meaning painful sex indicated the is some active inflammatory process still going on in the pelvis called PID-Pelvic Inflammatory Disease. Cystitis and Procto-colitis are the additional problems causing the pain in abdomen and rectum before and during bowel movements as also during urination. Ovarian cyst can cause problem only if it enlarges fast or gets twisted. I would advise you the following<|eot_id|>"
        ],
        [
         "18",
         "If you are a doctor, please answer the medical questions based on the patient's description.",
         "Hi, I had a subarachnoid bleed and coiling of brain aneurysm last year. I am having some major bilateral temple pain along with numbness that comes and goes in my left arm/hand/fingers. I have had headaches since the aneurysm, but this is different. Also, my moods have been horrible for the past few weeks.",
         "Aneurysm in brain causes headache due to compression of pain sensitive structure in brain. But pain is usually unilateral not bilateral. This pain will not radiate in both upper limb. Bilateral upper limb pain may be due to cervical spondylosis or other causes. You have anxiety of aneurysm, so due to anxiety your mood is horrible because aneurysm does not cause horrible mood change. So your headache may be chronic tension type headache. You may relieve by antianxiety Chat Doctor.",
         "<|start_header_id|>system<|end_header_id|>If you are a doctor, please answer the medical questions based on the patient's description.<|eot_id|><|start_header_id|>user<|end_header_id|> This is the question: Hi, I had a subarachnoid bleed and coiling of brain aneurysm last year. I am having some major bilateral temple pain along with numbness that comes and goes in my left arm/hand/fingers. I have had headaches since the aneurysm, but this is different. Also, my moods have been horrible for the past few weeks.<|eot_id|><|start_header_id|>assistant<|end_header_id|>Aneurysm in brain causes headache due to compression of pain sensitive structure in brain. But pain is usually unilateral not bilateral. This pain will not radiate in both upper limb. Bilateral upper limb pain may be due to cervical spondylosis or other causes. You have anxiety of aneurysm, so due to anxiety your mood is horrible because aneurysm does not cause horrible mood change. So your headache may be chronic tension type headache. You may relieve by antianxiety Chat Doctor.<|eot_id|>"
        ],
        [
         "19",
         "If you are a doctor, please answer the medical questions based on the patient's description.",
         "Almost everytime I eat, it burns when I swallow. Not in my throat but in my chest. It burns all the way down. It helps a lil if I drink water after I swallow. I wake up a lot in the middle of the night with heartburn so I chew some tums and it helps for the most part. Why is it so painful when I eat?",
         "Thanks for your question on Chat Doctor. I can understand your concern. In my opinion, you are mostly having HERD (gastroesophageal reflux disease). It is due to laxity of gastroesophageal sphincter. Because of this the acid of the stomach tends to come up in the esophagus and cause burning in chest. So follow these steps for better symptomatic relief. 1. Avoid stress and tension. 2. Avoid hot and spicy food. Avoid junk food. Avoid large meals, instead take frequent small meals. 3. Take proton pump inhibitors and prokinetic Chat Doctor.  4. Keep 2 - 3 pillows under head in the bed to prevent reflux. 5. Quit smoking and alcohol if you have these habits. Lose weight if you are obese. Don't worry, you will be alright with all these. Hope I have solved your query. I will be happy to help you further. Wish you good health. Thanks.",
         "<|start_header_id|>system<|end_header_id|>If you are a doctor, please answer the medical questions based on the patient's description.<|eot_id|><|start_header_id|>user<|end_header_id|> This is the question: Almost everytime I eat, it burns when I swallow. Not in my throat but in my chest. It burns all the way down. It helps a lil if I drink water after I swallow. I wake up a lot in the middle of the night with heartburn so I chew some tums and it helps for the most part. Why is it so painful when I eat?<|eot_id|><|start_header_id|>assistant<|end_header_id|>Thanks for your question on Chat Doctor. I can understand your concern. In my opinion, you are mostly having HERD (gastroesophageal reflux disease). It is due to laxity of gastroesophageal sphincter. Because of this the acid of the stomach tends to come up in the esophagus and cause burning in chest. So follow these steps for better symptomatic relief. 1. Avoid stress and tension. 2. Avoid hot and spicy food. Avoid junk food. Avoid large meals, instead take frequent small meals. 3. Take proton pump inhibitors and prokinetic Chat Doctor.  4. Keep 2 - 3 pillows under head in the bed to prevent reflux. 5. Quit smoking and alcohol if you have these habits. Lose weight if you are obese. Don't worry, you will be alright with all these. Hope I have solved your query. I will be happy to help you further. Wish you good health. Thanks.<|eot_id|>"
        ]
       ],
       "shape": {
        "columns": 4,
        "rows": 20
       }
      },
      "text/html": [
       "<div>\n",
       "<style scoped>\n",
       "    .dataframe tbody tr th:only-of-type {\n",
       "        vertical-align: middle;\n",
       "    }\n",
       "\n",
       "    .dataframe tbody tr th {\n",
       "        vertical-align: top;\n",
       "    }\n",
       "\n",
       "    .dataframe thead th {\n",
       "        text-align: right;\n",
       "    }\n",
       "</style>\n",
       "<table border=\"1\" class=\"dataframe\">\n",
       "  <thead>\n",
       "    <tr style=\"text-align: right;\">\n",
       "      <th></th>\n",
       "      <th>instruction</th>\n",
       "      <th>input</th>\n",
       "      <th>output</th>\n",
       "      <th>Prompt</th>\n",
       "    </tr>\n",
       "  </thead>\n",
       "  <tbody>\n",
       "    <tr>\n",
       "      <th>0</th>\n",
       "      <td>If you are a doctor, please answer the medical...</td>\n",
       "      <td>I woke up this morning feeling the whole room ...</td>\n",
       "      <td>Hi, Thank you for posting your query. The most...</td>\n",
       "      <td>&lt;|start_header_id|&gt;system&lt;|end_header_id|&gt;If y...</td>\n",
       "    </tr>\n",
       "    <tr>\n",
       "      <th>1</th>\n",
       "      <td>If you are a doctor, please answer the medical...</td>\n",
       "      <td>My baby has been pooing 5-6 times a day for a ...</td>\n",
       "      <td>Hi... Thank you for consulting in Chat Doctor....</td>\n",
       "      <td>&lt;|start_header_id|&gt;system&lt;|end_header_id|&gt;If y...</td>\n",
       "    </tr>\n",
       "    <tr>\n",
       "      <th>2</th>\n",
       "      <td>If you are a doctor, please answer the medical...</td>\n",
       "      <td>Hello, My husband is taking Oxycodone due to a...</td>\n",
       "      <td>Hello, and I hope I can help you today.First, ...</td>\n",
       "      <td>&lt;|start_header_id|&gt;system&lt;|end_header_id|&gt;If y...</td>\n",
       "    </tr>\n",
       "    <tr>\n",
       "      <th>3</th>\n",
       "      <td>If you are a doctor, please answer the medical...</td>\n",
       "      <td>lump under left nipple and stomach pain (male)...</td>\n",
       "      <td>HI. You have two different problems. The lump ...</td>\n",
       "      <td>&lt;|start_header_id|&gt;system&lt;|end_header_id|&gt;If y...</td>\n",
       "    </tr>\n",
       "    <tr>\n",
       "      <th>4</th>\n",
       "      <td>If you are a doctor, please answer the medical...</td>\n",
       "      <td>I have a 5 month old baby who is very congeste...</td>\n",
       "      <td>Thank you for using Chat Doctor. I would sugge...</td>\n",
       "      <td>&lt;|start_header_id|&gt;system&lt;|end_header_id|&gt;If y...</td>\n",
       "    </tr>\n",
       "    <tr>\n",
       "      <th>5</th>\n",
       "      <td>If you are a doctor, please answer the medical...</td>\n",
       "      <td>I am F 38 in good shape work out (do triathlon...</td>\n",
       "      <td>Hi, From history it seems that you might be ha...</td>\n",
       "      <td>&lt;|start_header_id|&gt;system&lt;|end_header_id|&gt;If y...</td>\n",
       "    </tr>\n",
       "    <tr>\n",
       "      <th>6</th>\n",
       "      <td>If you are a doctor, please answer the medical...</td>\n",
       "      <td>sir, MY uncle has ILD-Interstitial Lung diseas...</td>\n",
       "      <td>Thanks for your question on Chat Doctor. I can...</td>\n",
       "      <td>&lt;|start_header_id|&gt;system&lt;|end_header_id|&gt;If y...</td>\n",
       "    </tr>\n",
       "    <tr>\n",
       "      <th>7</th>\n",
       "      <td>If you are a doctor, please answer the medical...</td>\n",
       "      <td>my husband was working on a project in the hou...</td>\n",
       "      <td>Hello. It could be a blood collection due to m...</td>\n",
       "      <td>&lt;|start_header_id|&gt;system&lt;|end_header_id|&gt;If y...</td>\n",
       "    </tr>\n",
       "    <tr>\n",
       "      <th>8</th>\n",
       "      <td>If you are a doctor, please answer the medical...</td>\n",
       "      <td>hi my nine year old son had a cough and flu sy...</td>\n",
       "      <td>Hi, If the symptoms persist that long this sug...</td>\n",
       "      <td>&lt;|start_header_id|&gt;system&lt;|end_header_id|&gt;If y...</td>\n",
       "    </tr>\n",
       "    <tr>\n",
       "      <th>9</th>\n",
       "      <td>If you are a doctor, please answer the medical...</td>\n",
       "      <td>gyno problemsfor the past few months, I have b...</td>\n",
       "      <td>Dear Friend. Welcome to Chat Doctor. I am Chat...</td>\n",
       "      <td>&lt;|start_header_id|&gt;system&lt;|end_header_id|&gt;If y...</td>\n",
       "    </tr>\n",
       "    <tr>\n",
       "      <th>10</th>\n",
       "      <td>If you are a doctor, please answer the medical...</td>\n",
       "      <td>I have found that I have an allergy to leotens...</td>\n",
       "      <td>Cellophane You for contacting Chat Doctor. All...</td>\n",
       "      <td>&lt;|start_header_id|&gt;system&lt;|end_header_id|&gt;If y...</td>\n",
       "    </tr>\n",
       "    <tr>\n",
       "      <th>11</th>\n",
       "      <td>If you are a doctor, please answer the medical...</td>\n",
       "      <td>Hi my name is Wendy I ve been having an issue ...</td>\n",
       "      <td>HelloThanks for query. You have not mentioned ...</td>\n",
       "      <td>&lt;|start_header_id|&gt;system&lt;|end_header_id|&gt;If y...</td>\n",
       "    </tr>\n",
       "    <tr>\n",
       "      <th>12</th>\n",
       "      <td>If you are a doctor, please answer the medical...</td>\n",
       "      <td>hye, My aunt is having shortness of breath and...</td>\n",
       "      <td>Thanks for your question on Chat Doctor. I can...</td>\n",
       "      <td>&lt;|start_header_id|&gt;system&lt;|end_header_id|&gt;If y...</td>\n",
       "    </tr>\n",
       "    <tr>\n",
       "      <th>13</th>\n",
       "      <td>If you are a doctor, please answer the medical...</td>\n",
       "      <td>i am 28 yrs old, i got married before 6 year, ...</td>\n",
       "      <td>Hi, thank you for asking Chat Doctor I underst...</td>\n",
       "      <td>&lt;|start_header_id|&gt;system&lt;|end_header_id|&gt;If y...</td>\n",
       "    </tr>\n",
       "    <tr>\n",
       "      <th>14</th>\n",
       "      <td>If you are a doctor, please answer the medical...</td>\n",
       "      <td>I sprained my foot on Friday. I stepped on wha...</td>\n",
       "      <td>Hello, You have sustained twisting injury to f...</td>\n",
       "      <td>&lt;|start_header_id|&gt;system&lt;|end_header_id|&gt;If y...</td>\n",
       "    </tr>\n",
       "    <tr>\n",
       "      <th>15</th>\n",
       "      <td>If you are a doctor, please answer the medical...</td>\n",
       "      <td>hi, i have been recently diagnosed with H pylo...</td>\n",
       "      <td>HiT hanks for choosing Chat Doctor for your qu...</td>\n",
       "      <td>&lt;|start_header_id|&gt;system&lt;|end_header_id|&gt;If y...</td>\n",
       "    </tr>\n",
       "    <tr>\n",
       "      <th>16</th>\n",
       "      <td>If you are a doctor, please answer the medical...</td>\n",
       "      <td>I had a alt reading about 2+ months ago of 43 ...</td>\n",
       "      <td>Hello and thank you for asking Chat Doctor. I ...</td>\n",
       "      <td>&lt;|start_header_id|&gt;system&lt;|end_header_id|&gt;If y...</td>\n",
       "    </tr>\n",
       "    <tr>\n",
       "      <th>17</th>\n",
       "      <td>If you are a doctor, please answer the medical...</td>\n",
       "      <td>i had surgery done 5 months ago for scar tissu...</td>\n",
       "      <td>Hi. Thanks for your query and an elucidated hi...</td>\n",
       "      <td>&lt;|start_header_id|&gt;system&lt;|end_header_id|&gt;If y...</td>\n",
       "    </tr>\n",
       "    <tr>\n",
       "      <th>18</th>\n",
       "      <td>If you are a doctor, please answer the medical...</td>\n",
       "      <td>Hi, I had a subarachnoid bleed and coiling of ...</td>\n",
       "      <td>Aneurysm in brain causes headache due to compr...</td>\n",
       "      <td>&lt;|start_header_id|&gt;system&lt;|end_header_id|&gt;If y...</td>\n",
       "    </tr>\n",
       "    <tr>\n",
       "      <th>19</th>\n",
       "      <td>If you are a doctor, please answer the medical...</td>\n",
       "      <td>Almost everytime I eat, it burns when I swallo...</td>\n",
       "      <td>Thanks for your question on Chat Doctor. I can...</td>\n",
       "      <td>&lt;|start_header_id|&gt;system&lt;|end_header_id|&gt;If y...</td>\n",
       "    </tr>\n",
       "  </tbody>\n",
       "</table>\n",
       "</div>"
      ],
      "text/plain": [
       "                                          instruction  \\\n",
       "0   If you are a doctor, please answer the medical...   \n",
       "1   If you are a doctor, please answer the medical...   \n",
       "2   If you are a doctor, please answer the medical...   \n",
       "3   If you are a doctor, please answer the medical...   \n",
       "4   If you are a doctor, please answer the medical...   \n",
       "5   If you are a doctor, please answer the medical...   \n",
       "6   If you are a doctor, please answer the medical...   \n",
       "7   If you are a doctor, please answer the medical...   \n",
       "8   If you are a doctor, please answer the medical...   \n",
       "9   If you are a doctor, please answer the medical...   \n",
       "10  If you are a doctor, please answer the medical...   \n",
       "11  If you are a doctor, please answer the medical...   \n",
       "12  If you are a doctor, please answer the medical...   \n",
       "13  If you are a doctor, please answer the medical...   \n",
       "14  If you are a doctor, please answer the medical...   \n",
       "15  If you are a doctor, please answer the medical...   \n",
       "16  If you are a doctor, please answer the medical...   \n",
       "17  If you are a doctor, please answer the medical...   \n",
       "18  If you are a doctor, please answer the medical...   \n",
       "19  If you are a doctor, please answer the medical...   \n",
       "\n",
       "                                                input  \\\n",
       "0   I woke up this morning feeling the whole room ...   \n",
       "1   My baby has been pooing 5-6 times a day for a ...   \n",
       "2   Hello, My husband is taking Oxycodone due to a...   \n",
       "3   lump under left nipple and stomach pain (male)...   \n",
       "4   I have a 5 month old baby who is very congeste...   \n",
       "5   I am F 38 in good shape work out (do triathlon...   \n",
       "6   sir, MY uncle has ILD-Interstitial Lung diseas...   \n",
       "7   my husband was working on a project in the hou...   \n",
       "8   hi my nine year old son had a cough and flu sy...   \n",
       "9   gyno problemsfor the past few months, I have b...   \n",
       "10  I have found that I have an allergy to leotens...   \n",
       "11  Hi my name is Wendy I ve been having an issue ...   \n",
       "12  hye, My aunt is having shortness of breath and...   \n",
       "13  i am 28 yrs old, i got married before 6 year, ...   \n",
       "14  I sprained my foot on Friday. I stepped on wha...   \n",
       "15  hi, i have been recently diagnosed with H pylo...   \n",
       "16  I had a alt reading about 2+ months ago of 43 ...   \n",
       "17  i had surgery done 5 months ago for scar tissu...   \n",
       "18  Hi, I had a subarachnoid bleed and coiling of ...   \n",
       "19  Almost everytime I eat, it burns when I swallo...   \n",
       "\n",
       "                                               output  \\\n",
       "0   Hi, Thank you for posting your query. The most...   \n",
       "1   Hi... Thank you for consulting in Chat Doctor....   \n",
       "2   Hello, and I hope I can help you today.First, ...   \n",
       "3   HI. You have two different problems. The lump ...   \n",
       "4   Thank you for using Chat Doctor. I would sugge...   \n",
       "5   Hi, From history it seems that you might be ha...   \n",
       "6   Thanks for your question on Chat Doctor. I can...   \n",
       "7   Hello. It could be a blood collection due to m...   \n",
       "8   Hi, If the symptoms persist that long this sug...   \n",
       "9   Dear Friend. Welcome to Chat Doctor. I am Chat...   \n",
       "10  Cellophane You for contacting Chat Doctor. All...   \n",
       "11  HelloThanks for query. You have not mentioned ...   \n",
       "12  Thanks for your question on Chat Doctor. I can...   \n",
       "13  Hi, thank you for asking Chat Doctor I underst...   \n",
       "14  Hello, You have sustained twisting injury to f...   \n",
       "15  HiT hanks for choosing Chat Doctor for your qu...   \n",
       "16  Hello and thank you for asking Chat Doctor. I ...   \n",
       "17  Hi. Thanks for your query and an elucidated hi...   \n",
       "18  Aneurysm in brain causes headache due to compr...   \n",
       "19  Thanks for your question on Chat Doctor. I can...   \n",
       "\n",
       "                                               Prompt  \n",
       "0   <|start_header_id|>system<|end_header_id|>If y...  \n",
       "1   <|start_header_id|>system<|end_header_id|>If y...  \n",
       "2   <|start_header_id|>system<|end_header_id|>If y...  \n",
       "3   <|start_header_id|>system<|end_header_id|>If y...  \n",
       "4   <|start_header_id|>system<|end_header_id|>If y...  \n",
       "5   <|start_header_id|>system<|end_header_id|>If y...  \n",
       "6   <|start_header_id|>system<|end_header_id|>If y...  \n",
       "7   <|start_header_id|>system<|end_header_id|>If y...  \n",
       "8   <|start_header_id|>system<|end_header_id|>If y...  \n",
       "9   <|start_header_id|>system<|end_header_id|>If y...  \n",
       "10  <|start_header_id|>system<|end_header_id|>If y...  \n",
       "11  <|start_header_id|>system<|end_header_id|>If y...  \n",
       "12  <|start_header_id|>system<|end_header_id|>If y...  \n",
       "13  <|start_header_id|>system<|end_header_id|>If y...  \n",
       "14  <|start_header_id|>system<|end_header_id|>If y...  \n",
       "15  <|start_header_id|>system<|end_header_id|>If y...  \n",
       "16  <|start_header_id|>system<|end_header_id|>If y...  \n",
       "17  <|start_header_id|>system<|end_header_id|>If y...  \n",
       "18  <|start_header_id|>system<|end_header_id|>If y...  \n",
       "19  <|start_header_id|>system<|end_header_id|>If y...  "
      ]
     },
     "execution_count": 9,
     "metadata": {},
     "output_type": "execute_result"
    }
   ],
   "source": [
    "# Preview Dataset after Changes\n",
    "df.head(20)"
   ]
  },
  {
   "cell_type": "code",
   "execution_count": null,
   "metadata": {},
   "outputs": [],
   "source": [
    "# API Key Hugging Face\n",
    "load_dotenv()\n",
    "secret = os.getenv(\"secret\")"
   ]
  },
  {
   "cell_type": "code",
   "execution_count": null,
   "metadata": {},
   "outputs": [
    {
     "name": "stderr",
     "output_type": "stream",
     "text": [
      "Creating parquet from Arrow format: 100%|██████████| 113/113 [00:02<00:00, 45.72ba/s]\n",
      "Uploading the dataset shards: 100%|██████████| 1/1 [00:05<00:00,  5.88s/it]\n",
      "c:\\Users\\parth\\miniconda3\\Lib\\site-packages\\huggingface_hub\\file_download.py:142: UserWarning: `huggingface_hub` cache-system uses symlinks by default to efficiently store duplicated files but your machine does not support them in C:\\Users\\parth\\.cache\\huggingface\\hub\\datasets--parthf--LLaMA3-Medical-Remedy. Caching files will still work but in a degraded version that might require more space on your disk. This warning can be disabled by setting the `HF_HUB_DISABLE_SYMLINKS_WARNING` environment variable. For more details, see https://huggingface.co/docs/huggingface_hub/how-to-cache#limitations.\n",
      "To support symlinks on Windows, you either need to activate Developer Mode or to run Python as an administrator. In order to activate developer mode, see this article: https://docs.microsoft.com/en-us/windows/apps/get-started/enable-your-device-for-development\n",
      "  warnings.warn(message)\n",
      "No files have been modified since last commit. Skipping to prevent empty commit.\n"
     ]
    },
    {
     "data": {
      "text/plain": [
       "CommitInfo(commit_url='https://huggingface.co/datasets/parthf/LLaMA3-Medical-Remedy/commit/0e848ba1498ed8a96dd90958bdd8096b3a422e1b', commit_message='Upload dataset', commit_description='', oid='0e848ba1498ed8a96dd90958bdd8096b3a422e1b', pr_url=None, repo_url=RepoUrl('https://huggingface.co/datasets/parthf/LLaMA3-Medical-Remedy', endpoint='https://huggingface.co', repo_type='dataset', repo_id='parthf/LLaMA3-Medical-Remedy'), pr_revision=None, pr_num=None)"
      ]
     },
     "execution_count": 11,
     "metadata": {},
     "output_type": "execute_result"
    }
   ],
   "source": [
    "# Pushing New Datasets to Hugging Face Hub\n",
    "dataset = datasets.Dataset.from_pandas(df)\n",
    "dataset.push_to_hub(\"parthf/LLaMA3-Medical-Remedy\",token = secret)"
   ]
  }
 ],
 "metadata": {
  "kernelspec": {
   "display_name": "base",
   "language": "python",
   "name": "python3"
  },
  "language_info": {
   "codemirror_mode": {
    "name": "ipython",
    "version": 3
   },
   "file_extension": ".py",
   "mimetype": "text/x-python",
   "name": "python",
   "nbconvert_exporter": "python",
   "pygments_lexer": "ipython3",
   "version": "3.12.7"
  }
 },
 "nbformat": 4,
 "nbformat_minor": 2
}
